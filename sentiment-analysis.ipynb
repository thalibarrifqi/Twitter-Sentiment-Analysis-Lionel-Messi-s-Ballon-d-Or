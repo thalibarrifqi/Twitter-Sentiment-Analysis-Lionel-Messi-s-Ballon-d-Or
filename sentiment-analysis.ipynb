{
 "cells": [
  {
   "cell_type": "markdown",
   "id": "a66576b9",
   "metadata": {},
   "source": [
    "# **Twitter Sentiment Analysis**"
   ]
  },
  {
   "cell_type": "markdown",
   "id": "ec1ca8ba",
   "metadata": {},
   "source": [
    "<img src=\"messi.png\">"
   ]
  },
  {
   "cell_type": "markdown",
   "id": "da74b036",
   "metadata": {},
   "source": [
    "Picture by ESPN on Twitter : https://twitter.com/ESPNFC/status/1465444697439191051?s=20"
   ]
  },
  {
   "cell_type": "markdown",
   "id": "93291a53",
   "metadata": {},
   "source": [
    "**Introduction**"
   ]
  },
  {
   "cell_type": "markdown",
   "id": "53efee65",
   "metadata": {},
   "source": [
    "The Ballon d'Or has just been awarded to Lionel Messi. People express their opinions on social media, including Twitter, despite the fact that it raises a lot of pros and cons. We'll try to find out what Twitter users have to say about Messi's new title. Although I am unconcerned with the Ballon d'Or, the controversy about Messi's title on Twitter is a fascinating research topic."
   ]
  },
  {
   "cell_type": "markdown",
   "id": "9b5a18c2",
   "metadata": {},
   "source": [
    "**Libraries**"
   ]
  },
  {
   "cell_type": "code",
   "execution_count": 1,
   "id": "e6ead944",
   "metadata": {},
   "outputs": [],
   "source": [
    "import pandas as pd\n",
    "import numpy as np\n",
    "import seaborn as sns\n",
    "import matplotlib.pyplot as plt\n",
    "import re\n",
    "from textblob import TextBlob"
   ]
  },
  {
   "cell_type": "markdown",
   "id": "b637a3b8",
   "metadata": {},
   "source": [
    "**Dataset**"
   ]
  },
  {
   "cell_type": "markdown",
   "id": "97e776f6",
   "metadata": {},
   "source": [
    "Because of the constraints of the textblob library, I used data from 40000 tweets for the dataset, but only those tweets that use English. Check the twitter-api notebook to learn about how to crawl the data."
   ]
  },
  {
   "cell_type": "code",
   "execution_count": 2,
   "id": "400956ae",
   "metadata": {},
   "outputs": [],
   "source": [
    "df = pd.read_csv('query_result.csv')"
   ]
  },
  {
   "cell_type": "code",
   "execution_count": 3,
   "id": "4aee4c03",
   "metadata": {
    "scrolled": true
   },
   "outputs": [],
   "source": [
    "df = df.copy()"
   ]
  },
  {
   "cell_type": "code",
   "execution_count": 4,
   "id": "47687245",
   "metadata": {},
   "outputs": [
    {
     "data": {
      "text/html": [
       "<div>\n",
       "<style scoped>\n",
       "    .dataframe tbody tr th:only-of-type {\n",
       "        vertical-align: middle;\n",
       "    }\n",
       "\n",
       "    .dataframe tbody tr th {\n",
       "        vertical-align: top;\n",
       "    }\n",
       "\n",
       "    .dataframe thead th {\n",
       "        text-align: right;\n",
       "    }\n",
       "</style>\n",
       "<table border=\"1\" class=\"dataframe\">\n",
       "  <thead>\n",
       "    <tr style=\"text-align: right;\">\n",
       "      <th></th>\n",
       "      <th>tweet_id</th>\n",
       "      <th>created_at</th>\n",
       "      <th>text</th>\n",
       "      <th>language</th>\n",
       "      <th>like</th>\n",
       "      <th>retweet</th>\n",
       "    </tr>\n",
       "  </thead>\n",
       "  <tbody>\n",
       "    <tr>\n",
       "      <th>0</th>\n",
       "      <td>1466302275274436616</td>\n",
       "      <td>2021-12-02 07:04:39+00:00</td>\n",
       "      <td>@OdehEmar I said \"Should\"...\\n\\nI am repeating...</td>\n",
       "      <td>en</td>\n",
       "      <td>0</td>\n",
       "      <td>0</td>\n",
       "    </tr>\n",
       "    <tr>\n",
       "      <th>1</th>\n",
       "      <td>1466302270707019777</td>\n",
       "      <td>2021-12-02 07:04:38+00:00</td>\n",
       "      <td>@Deputatipd @ElenaCarnevali @pdnetwork Non dim...</td>\n",
       "      <td>it</td>\n",
       "      <td>0</td>\n",
       "      <td>0</td>\n",
       "    </tr>\n",
       "    <tr>\n",
       "      <th>2</th>\n",
       "      <td>1466302260430790662</td>\n",
       "      <td>2021-12-02 07:04:36+00:00</td>\n",
       "      <td>@BocahDukun @breathe_010 @GOAL_ID Maaf bos, da...</td>\n",
       "      <td>in</td>\n",
       "      <td>0</td>\n",
       "      <td>0</td>\n",
       "    </tr>\n",
       "    <tr>\n",
       "      <th>3</th>\n",
       "      <td>1466302256320598018</td>\n",
       "      <td>2021-12-02 07:04:35+00:00</td>\n",
       "      <td>@LeventUzumcu Messi 'de benim alanım futbol de...</td>\n",
       "      <td>tr</td>\n",
       "      <td>0</td>\n",
       "      <td>0</td>\n",
       "    </tr>\n",
       "    <tr>\n",
       "      <th>4</th>\n",
       "      <td>1466302254219243525</td>\n",
       "      <td>2021-12-02 07:04:34+00:00</td>\n",
       "      <td>@qhuarkhu @TechnoG88176286 Brace yourself for ...</td>\n",
       "      <td>en</td>\n",
       "      <td>0</td>\n",
       "      <td>0</td>\n",
       "    </tr>\n",
       "  </tbody>\n",
       "</table>\n",
       "</div>"
      ],
      "text/plain": [
       "              tweet_id                 created_at  \\\n",
       "0  1466302275274436616  2021-12-02 07:04:39+00:00   \n",
       "1  1466302270707019777  2021-12-02 07:04:38+00:00   \n",
       "2  1466302260430790662  2021-12-02 07:04:36+00:00   \n",
       "3  1466302256320598018  2021-12-02 07:04:35+00:00   \n",
       "4  1466302254219243525  2021-12-02 07:04:34+00:00   \n",
       "\n",
       "                                                text language  like  retweet  \n",
       "0  @OdehEmar I said \"Should\"...\\n\\nI am repeating...       en     0        0  \n",
       "1  @Deputatipd @ElenaCarnevali @pdnetwork Non dim...       it     0        0  \n",
       "2  @BocahDukun @breathe_010 @GOAL_ID Maaf bos, da...       in     0        0  \n",
       "3  @LeventUzumcu Messi 'de benim alanım futbol de...       tr     0        0  \n",
       "4  @qhuarkhu @TechnoG88176286 Brace yourself for ...       en     0        0  "
      ]
     },
     "execution_count": 4,
     "metadata": {},
     "output_type": "execute_result"
    }
   ],
   "source": [
    "df.head()"
   ]
  },
  {
   "cell_type": "markdown",
   "id": "965ae01a",
   "metadata": {},
   "source": [
    "**Filter The Language**"
   ]
  },
  {
   "cell_type": "code",
   "execution_count": 5,
   "id": "0598079f",
   "metadata": {},
   "outputs": [],
   "source": [
    "newdf = df.loc[df['language'] == 'en']"
   ]
  },
  {
   "cell_type": "code",
   "execution_count": 6,
   "id": "24ecb303",
   "metadata": {},
   "outputs": [],
   "source": [
    "newdf = newdf.copy()"
   ]
  },
  {
   "cell_type": "code",
   "execution_count": 7,
   "id": "e6b2eede",
   "metadata": {},
   "outputs": [],
   "source": [
    "newdf['newtext'] = newdf['text'].copy()"
   ]
  },
  {
   "cell_type": "code",
   "execution_count": 8,
   "id": "34231689",
   "metadata": {},
   "outputs": [
    {
     "data": {
      "text/html": [
       "<div>\n",
       "<style scoped>\n",
       "    .dataframe tbody tr th:only-of-type {\n",
       "        vertical-align: middle;\n",
       "    }\n",
       "\n",
       "    .dataframe tbody tr th {\n",
       "        vertical-align: top;\n",
       "    }\n",
       "\n",
       "    .dataframe thead th {\n",
       "        text-align: right;\n",
       "    }\n",
       "</style>\n",
       "<table border=\"1\" class=\"dataframe\">\n",
       "  <thead>\n",
       "    <tr style=\"text-align: right;\">\n",
       "      <th></th>\n",
       "      <th>tweet_id</th>\n",
       "      <th>created_at</th>\n",
       "      <th>text</th>\n",
       "      <th>language</th>\n",
       "      <th>like</th>\n",
       "      <th>retweet</th>\n",
       "      <th>newtext</th>\n",
       "    </tr>\n",
       "  </thead>\n",
       "  <tbody>\n",
       "    <tr>\n",
       "      <th>0</th>\n",
       "      <td>1466302275274436616</td>\n",
       "      <td>2021-12-02 07:04:39+00:00</td>\n",
       "      <td>@OdehEmar I said \"Should\"...\\n\\nI am repeating...</td>\n",
       "      <td>en</td>\n",
       "      <td>0</td>\n",
       "      <td>0</td>\n",
       "      <td>@OdehEmar I said \"Should\"...\\n\\nI am repeating...</td>\n",
       "    </tr>\n",
       "    <tr>\n",
       "      <th>4</th>\n",
       "      <td>1466302254219243525</td>\n",
       "      <td>2021-12-02 07:04:34+00:00</td>\n",
       "      <td>@qhuarkhu @TechnoG88176286 Brace yourself for ...</td>\n",
       "      <td>en</td>\n",
       "      <td>0</td>\n",
       "      <td>0</td>\n",
       "      <td>@qhuarkhu @TechnoG88176286 Brace yourself for ...</td>\n",
       "    </tr>\n",
       "    <tr>\n",
       "      <th>7</th>\n",
       "      <td>1466302115756879874</td>\n",
       "      <td>2021-12-02 07:04:01+00:00</td>\n",
       "      <td>@Morris_Monye It's so baffling that CR7's comm...</td>\n",
       "      <td>en</td>\n",
       "      <td>0</td>\n",
       "      <td>0</td>\n",
       "      <td>@Morris_Monye It's so baffling that CR7's comm...</td>\n",
       "    </tr>\n",
       "    <tr>\n",
       "      <th>8</th>\n",
       "      <td>1466302107221323776</td>\n",
       "      <td>2021-12-02 07:03:59+00:00</td>\n",
       "      <td>@GaneshMrshl @sapphistal @Fedrick27152900 @Evr...</td>\n",
       "      <td>en</td>\n",
       "      <td>0</td>\n",
       "      <td>0</td>\n",
       "      <td>@GaneshMrshl @sapphistal @Fedrick27152900 @Evr...</td>\n",
       "    </tr>\n",
       "    <tr>\n",
       "      <th>9</th>\n",
       "      <td>1466302039051452416</td>\n",
       "      <td>2021-12-02 07:03:43+00:00</td>\n",
       "      <td>PSG is still a shitty team belonging to the fa...</td>\n",
       "      <td>en</td>\n",
       "      <td>0</td>\n",
       "      <td>0</td>\n",
       "      <td>PSG is still a shitty team belonging to the fa...</td>\n",
       "    </tr>\n",
       "  </tbody>\n",
       "</table>\n",
       "</div>"
      ],
      "text/plain": [
       "              tweet_id                 created_at  \\\n",
       "0  1466302275274436616  2021-12-02 07:04:39+00:00   \n",
       "4  1466302254219243525  2021-12-02 07:04:34+00:00   \n",
       "7  1466302115756879874  2021-12-02 07:04:01+00:00   \n",
       "8  1466302107221323776  2021-12-02 07:03:59+00:00   \n",
       "9  1466302039051452416  2021-12-02 07:03:43+00:00   \n",
       "\n",
       "                                                text language  like  retweet  \\\n",
       "0  @OdehEmar I said \"Should\"...\\n\\nI am repeating...       en     0        0   \n",
       "4  @qhuarkhu @TechnoG88176286 Brace yourself for ...       en     0        0   \n",
       "7  @Morris_Monye It's so baffling that CR7's comm...       en     0        0   \n",
       "8  @GaneshMrshl @sapphistal @Fedrick27152900 @Evr...       en     0        0   \n",
       "9  PSG is still a shitty team belonging to the fa...       en     0        0   \n",
       "\n",
       "                                             newtext  \n",
       "0  @OdehEmar I said \"Should\"...\\n\\nI am repeating...  \n",
       "4  @qhuarkhu @TechnoG88176286 Brace yourself for ...  \n",
       "7  @Morris_Monye It's so baffling that CR7's comm...  \n",
       "8  @GaneshMrshl @sapphistal @Fedrick27152900 @Evr...  \n",
       "9  PSG is still a shitty team belonging to the fa...  "
      ]
     },
     "execution_count": 8,
     "metadata": {},
     "output_type": "execute_result"
    }
   ],
   "source": [
    "newdf.head()"
   ]
  },
  {
   "cell_type": "markdown",
   "id": "6c2d9999",
   "metadata": {},
   "source": [
    "**Data Cleaning**"
   ]
  },
  {
   "cell_type": "code",
   "execution_count": 9,
   "id": "add33c87",
   "metadata": {},
   "outputs": [],
   "source": [
    "newdf['newtext'] = newdf['newtext'].apply(lambda x: ' '.join(re.sub(\"(@[A-Za-z0-9]+)|([^0-9A-Za-z \\t])|(\\w+:\\/\\/\\S+)\",\" \",x).split()))"
   ]
  },
  {
   "cell_type": "code",
   "execution_count": 10,
   "id": "184b06c8",
   "metadata": {},
   "outputs": [
    {
     "data": {
      "text/html": [
       "<div>\n",
       "<style scoped>\n",
       "    .dataframe tbody tr th:only-of-type {\n",
       "        vertical-align: middle;\n",
       "    }\n",
       "\n",
       "    .dataframe tbody tr th {\n",
       "        vertical-align: top;\n",
       "    }\n",
       "\n",
       "    .dataframe thead th {\n",
       "        text-align: right;\n",
       "    }\n",
       "</style>\n",
       "<table border=\"1\" class=\"dataframe\">\n",
       "  <thead>\n",
       "    <tr style=\"text-align: right;\">\n",
       "      <th></th>\n",
       "      <th>tweet_id</th>\n",
       "      <th>created_at</th>\n",
       "      <th>text</th>\n",
       "      <th>language</th>\n",
       "      <th>like</th>\n",
       "      <th>retweet</th>\n",
       "      <th>newtext</th>\n",
       "    </tr>\n",
       "  </thead>\n",
       "  <tbody>\n",
       "    <tr>\n",
       "      <th>0</th>\n",
       "      <td>1466302275274436616</td>\n",
       "      <td>2021-12-02 07:04:39+00:00</td>\n",
       "      <td>@OdehEmar I said \"Should\"...\\n\\nI am repeating...</td>\n",
       "      <td>en</td>\n",
       "      <td>0</td>\n",
       "      <td>0</td>\n",
       "      <td>I said Should I am repeating this again coz I ...</td>\n",
       "    </tr>\n",
       "    <tr>\n",
       "      <th>4</th>\n",
       "      <td>1466302254219243525</td>\n",
       "      <td>2021-12-02 07:04:34+00:00</td>\n",
       "      <td>@qhuarkhu @TechnoG88176286 Brace yourself for ...</td>\n",
       "      <td>en</td>\n",
       "      <td>0</td>\n",
       "      <td>0</td>\n",
       "      <td>Brace yourself for Messi He had the same stats...</td>\n",
       "    </tr>\n",
       "    <tr>\n",
       "      <th>7</th>\n",
       "      <td>1466302115756879874</td>\n",
       "      <td>2021-12-02 07:04:01+00:00</td>\n",
       "      <td>@Morris_Monye It's so baffling that CR7's comm...</td>\n",
       "      <td>en</td>\n",
       "      <td>0</td>\n",
       "      <td>0</td>\n",
       "      <td>Monye It s so baffling that CR7 s comment trig...</td>\n",
       "    </tr>\n",
       "    <tr>\n",
       "      <th>8</th>\n",
       "      <td>1466302107221323776</td>\n",
       "      <td>2021-12-02 07:03:59+00:00</td>\n",
       "      <td>@GaneshMrshl @sapphistal @Fedrick27152900 @Evr...</td>\n",
       "      <td>en</td>\n",
       "      <td>0</td>\n",
       "      <td>0</td>\n",
       "      <td>official If that cup was so good nymar should ...</td>\n",
       "    </tr>\n",
       "    <tr>\n",
       "      <th>9</th>\n",
       "      <td>1466302039051452416</td>\n",
       "      <td>2021-12-02 07:03:43+00:00</td>\n",
       "      <td>PSG is still a shitty team belonging to the fa...</td>\n",
       "      <td>en</td>\n",
       "      <td>0</td>\n",
       "      <td>0</td>\n",
       "      <td>PSG is still a shitty team belonging to the fa...</td>\n",
       "    </tr>\n",
       "  </tbody>\n",
       "</table>\n",
       "</div>"
      ],
      "text/plain": [
       "              tweet_id                 created_at  \\\n",
       "0  1466302275274436616  2021-12-02 07:04:39+00:00   \n",
       "4  1466302254219243525  2021-12-02 07:04:34+00:00   \n",
       "7  1466302115756879874  2021-12-02 07:04:01+00:00   \n",
       "8  1466302107221323776  2021-12-02 07:03:59+00:00   \n",
       "9  1466302039051452416  2021-12-02 07:03:43+00:00   \n",
       "\n",
       "                                                text language  like  retweet  \\\n",
       "0  @OdehEmar I said \"Should\"...\\n\\nI am repeating...       en     0        0   \n",
       "4  @qhuarkhu @TechnoG88176286 Brace yourself for ...       en     0        0   \n",
       "7  @Morris_Monye It's so baffling that CR7's comm...       en     0        0   \n",
       "8  @GaneshMrshl @sapphistal @Fedrick27152900 @Evr...       en     0        0   \n",
       "9  PSG is still a shitty team belonging to the fa...       en     0        0   \n",
       "\n",
       "                                             newtext  \n",
       "0  I said Should I am repeating this again coz I ...  \n",
       "4  Brace yourself for Messi He had the same stats...  \n",
       "7  Monye It s so baffling that CR7 s comment trig...  \n",
       "8  official If that cup was so good nymar should ...  \n",
       "9  PSG is still a shitty team belonging to the fa...  "
      ]
     },
     "execution_count": 10,
     "metadata": {},
     "output_type": "execute_result"
    }
   ],
   "source": [
    "newdf.head()"
   ]
  },
  {
   "cell_type": "markdown",
   "id": "de7323b2",
   "metadata": {},
   "source": [
    "**Natural Language Preprocessing**"
   ]
  },
  {
   "cell_type": "code",
   "execution_count": 11,
   "id": "4552a91f",
   "metadata": {},
   "outputs": [],
   "source": [
    "newdf['analysis'] = newdf['newtext'].apply(lambda x: TextBlob(x))"
   ]
  },
  {
   "cell_type": "code",
   "execution_count": 12,
   "id": "65ca7b36",
   "metadata": {},
   "outputs": [],
   "source": [
    "newdf['polarity'] = newdf['analysis'].apply(lambda x: x.sentiment.polarity)"
   ]
  },
  {
   "cell_type": "code",
   "execution_count": 13,
   "id": "4dee9f28",
   "metadata": {},
   "outputs": [],
   "source": [
    "def conv_polarity(x):\n",
    "    if x > 0:\n",
    "        return 'positive'\n",
    "    elif x==0:\n",
    "        return 'neutral'\n",
    "    else:\n",
    "        return 'negative'"
   ]
  },
  {
   "cell_type": "code",
   "execution_count": 14,
   "id": "38744696",
   "metadata": {},
   "outputs": [],
   "source": [
    "newdf['sentiment'] = newdf['polarity'].apply(lambda x: conv_polarity(x))"
   ]
  },
  {
   "cell_type": "code",
   "execution_count": 15,
   "id": "e106c312",
   "metadata": {},
   "outputs": [
    {
     "data": {
      "text/plain": [
       "Text(0.5, 1.0, \"Sentiment Result of Messi's Ballon d'Or\")"
      ]
     },
     "execution_count": 15,
     "metadata": {},
     "output_type": "execute_result"
    },
    {
     "data": {
      "image/png": "[encoded data removed]",
      "text/plain": [
       "<Figure size 576x576 with 1 Axes>"
      ]
     },
     "metadata": {},
     "output_type": "display_data"
    }
   ],
   "source": [
    "plt.figure(figsize=(8,8))\n",
    "ratios = newdf['sentiment'].value_counts()\n",
    "labels = newdf['sentiment'].unique()\n",
    "plt.pie(ratios, autopct='%1.1f%%', labels=labels)\n",
    "plt.title(\"Sentiment Result of Messi's Ballon d'Or\", fontfamily='sans-serif', fontsize=16, fontweight=\"bold\")"
   ]
  },
  {
   "cell_type": "markdown",
   "id": "ca0e0e01",
   "metadata": {},
   "source": [
    "**Conclusion**"
   ]
  },
  {
   "cell_type": "markdown",
   "id": "e7100351",
   "metadata": {},
   "source": [
    "The dataset consists of 12951 English-language tweets. According to textblob's NLP results, 49 percent of individuals think Lionel Messi's title is a fair one. This is only part of what people are saying. In fact, while the Ballon d'Or was trending on Twitter, there were almost two million tweets on Messi."
   ]
  },
  {
   "cell_type": "code",
   "execution_count": null,
   "id": "eb5ea8ac",
   "metadata": {},
   "outputs": [],
   "source": []
  }
 ],
 "metadata": {
  "kernelspec": {
   "display_name": "Python 3",
   "language": "python",
   "name": "python3"
  },
  "language_info": {
   "codemirror_mode": {
    "name": "ipython",
    "version": 3
   },
   "file_extension": ".py",
   "mimetype": "text/x-python",
   "name": "python",
   "nbconvert_exporter": "python",
   "pygments_lexer": "ipython3",
   "version": "3.8.8"
  }
 },
 "nbformat": 4,
 "nbformat_minor": 5
}
